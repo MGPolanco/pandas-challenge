{
 "cells": [
  {
   "cell_type": "markdown",
   "metadata": {},
   "source": [
    "### Note\n",
    "* Instructions have been included for each segment. You do not have to follow them exactly, but they are included to help you think through the steps."
   ]
  },
  {
   "cell_type": "code",
   "execution_count": null,
   "metadata": {},
   "outputs": [],
   "source": []
  },
  {
   "cell_type": "code",
   "execution_count": 2989,
   "metadata": {},
   "outputs": [],
   "source": [
    "# Dependencies and Setup\n",
    "import pandas as pd\n",
    "\n",
    "\n",
    "school_data_to_load = \"Resources/schools_complete.csv\"\n",
    "student_data_to_load = \"Resources/students_complete.csv\"\n",
    "\n",
    "# Read School and Student Data File and store into Pandas DataFrames\n",
    "school_data = pd.read_csv(school_data_to_load)\n",
    "student_data = pd.read_csv(student_data_to_load)\n",
    "\n",
    "# Combine the data into a single dataset.  \n",
    "school_data_complete = pd.merge(student_data, school_data, how=\"left\", on=[\"school_name\", \"school_name\"])"
   ]
  },
  {
   "cell_type": "markdown",
   "metadata": {},
   "source": [
    "## District Summary\n",
    "\n",
    "* Calculate the total number of schools\n",
    "\n",
    "* Calculate the total number of students\n",
    "\n",
    "* Calculate the total budget\n",
    "\n",
    "* Calculate the average math score \n",
    "\n",
    "* Calculate the average reading score\n",
    "\n",
    "* Calculate the percentage of students with a passing math score (70 or greater)\n",
    "\n",
    "* Calculate the percentage of students with a passing reading score (70 or greater)\n",
    "\n",
    "* Calculate the percentage of students who passed math **and** reading (% Overall Passing)\n",
    "\n",
    "* Create a dataframe to hold the above results\n",
    "\n",
    "* Optional: give the displayed data cleaner formatting"
   ]
  },
  {
   "cell_type": "code",
   "execution_count": 2990,
   "metadata": {},
   "outputs": [
    {
     "data": {
      "text/plain": [
       "15"
      ]
     },
     "execution_count": 2990,
     "metadata": {},
     "output_type": "execute_result"
    }
   ],
   "source": [
    "#Calculate the total number of schools - done\n",
    "school_count = school_data_complete.drop_duplicates(subset=\"school_name\")\n",
    "total_schools = school_count[\"school_name\"].value_counts()\n",
    "#total_school = total_schools[total_schools].cumsum()\n",
    "school_tally = total_schools.count()\n",
    "school_tally"
   ]
  },
  {
   "cell_type": "code",
   "execution_count": 2991,
   "metadata": {},
   "outputs": [
    {
     "data": {
      "text/plain": [
       "39170"
      ]
     },
     "execution_count": 2991,
     "metadata": {},
     "output_type": "execute_result"
    }
   ],
   "source": [
    "#Calculate the total number of students - done\n",
    "student_count = school_data_complete[\"Student ID\"].count()\n",
    "student_count"
   ]
  },
  {
   "cell_type": "code",
   "execution_count": 2992,
   "metadata": {},
   "outputs": [
    {
     "data": {
      "text/plain": [
       "24649428"
      ]
     },
     "execution_count": 2992,
     "metadata": {},
     "output_type": "execute_result"
    }
   ],
   "source": [
    "#Calculate the total budget - done\n",
    "total_budget = school_data[\"budget\"].sum()\n",
    "total_budget"
   ]
  },
  {
   "cell_type": "code",
   "execution_count": 2993,
   "metadata": {},
   "outputs": [
    {
     "name": "stdout",
     "output_type": "stream",
     "text": [
      "78.98537145774827 81.87784018381414\n"
     ]
    }
   ],
   "source": [
    "#Calculate the average math and reading scores - done\n",
    "math_average = school_data_complete[\"math_score\"].mean()\n",
    "reading_average = school_data_complete[\"reading_score\"].mean()\n",
    "#print(\"math\", math_average, \"reading\", reading_average)\n",
    "print(math_average, reading_average)"
   ]
  },
  {
   "cell_type": "code",
   "execution_count": 2994,
   "metadata": {},
   "outputs": [
    {
     "name": "stdout",
     "output_type": "stream",
     "text": [
      "math% 74.9808526933878 reading% 85.80546336482001\n"
     ]
    }
   ],
   "source": [
    "#students passing math & reading - done\n",
    "passing_math = school_data_complete[(school_data_complete[\"math_score\"] >= 70)]\n",
    "passing_reading = school_data_complete[(school_data_complete[\"reading_score\"] >= 70)]\n",
    "\n",
    "#Calculate the percentages of students passing math & reading - done\n",
    "math_count = passing_math[\"student_name\"].count()\n",
    "math_percent = math_count/student_count*100\n",
    "reading_count = passing_reading[\"student_name\"].count()\n",
    "reading_percent = reading_count/student_count*100\n",
    "print(\"math%\", math_percent, \"reading%\", reading_percent)\n"
   ]
  },
  {
   "cell_type": "code",
   "execution_count": 2995,
   "metadata": {},
   "outputs": [],
   "source": [
    "#Calculate the overall passing percent - DONE\n",
    "overall_passing = (math_percent + reading_percent)/2\n"
   ]
  },
  {
   "cell_type": "code",
   "execution_count": 2996,
   "metadata": {},
   "outputs": [
    {
     "data": {
      "text/html": [
       "<div>\n",
       "<style scoped>\n",
       "    .dataframe tbody tr th:only-of-type {\n",
       "        vertical-align: middle;\n",
       "    }\n",
       "\n",
       "    .dataframe tbody tr th {\n",
       "        vertical-align: top;\n",
       "    }\n",
       "\n",
       "    .dataframe thead th {\n",
       "        text-align: right;\n",
       "    }\n",
       "</style>\n",
       "<table border=\"1\" class=\"dataframe\">\n",
       "  <thead>\n",
       "    <tr style=\"text-align: right;\">\n",
       "      <th></th>\n",
       "      <th>Total Schools</th>\n",
       "      <th>Total Students</th>\n",
       "      <th>Total Dudget</th>\n",
       "      <th>Average Math Score</th>\n",
       "      <th>Average Reading Score</th>\n",
       "      <th>%Passing Math</th>\n",
       "      <th>%Passing Reading</th>\n",
       "      <th>%Overall Passing</th>\n",
       "    </tr>\n",
       "  </thead>\n",
       "  <tbody>\n",
       "    <tr>\n",
       "      <th>0</th>\n",
       "      <td>15</td>\n",
       "      <td>39170</td>\n",
       "      <td>24649428</td>\n",
       "      <td>78.985371</td>\n",
       "      <td>81.87784</td>\n",
       "      <td>74.980853</td>\n",
       "      <td>85.805463</td>\n",
       "      <td>80.393158</td>\n",
       "    </tr>\n",
       "  </tbody>\n",
       "</table>\n",
       "</div>"
      ],
      "text/plain": [
       "   Total Schools  Total Students  Total Dudget  Average Math Score  \\\n",
       "0             15           39170      24649428           78.985371   \n",
       "\n",
       "   Average Reading Score  %Passing Math  %Passing Reading  %Overall Passing  \n",
       "0               81.87784      74.980853         85.805463         80.393158  "
      ]
     },
     "execution_count": 2996,
     "metadata": {},
     "output_type": "execute_result"
    }
   ],
   "source": [
    "data = {'Total Schools':[school_tally],\n",
    "        'Total Students':[student_count],\n",
    "        'Total Dudget': [total_budget],\n",
    "        'Average Math Score':[math_average],\n",
    "        'Average Reading Score': [reading_average],\n",
    "        '%Passing Math': [math_percent],\n",
    "        '%Passing Reading': [reading_percent],\n",
    "        '%Overall Passing': [overall_passing]\n",
    "        \n",
    "        }\n",
    "df = pd.DataFrame(data, columns=['Total Schools', 'Total Students', 'Total Dudget', 'Average Math Score', 'Average Reading Score', '%Passing Math', '%Passing Reading', '%Overall Passing'  ])\n",
    "df"
   ]
  },
  {
   "cell_type": "markdown",
   "metadata": {},
   "source": [
    "## School Summary"
   ]
  },
  {
   "cell_type": "markdown",
   "metadata": {},
   "source": [
    "* Create an overview table that summarizes key metrics about each school, including:\n",
    "  * School Name\n",
    "  * School Type\n",
    "  * Total Students\n",
    "  * Total School Budget\n",
    "  * Per Student Budget\n",
    "  * Average Math Score\n",
    "  * Average Reading Score\n",
    "  * % Passing Math\n",
    "  * % Passing Reading\n",
    "  * % Overall Passing (The percentage of students that passed math **and** reading.)\n",
    "  \n",
    "* Create a dataframe to hold the above results"
   ]
  },
  {
   "cell_type": "code",
   "execution_count": 2997,
   "metadata": {},
   "outputs": [],
   "source": [
    "#School Name - DONE\n",
    "school_df = school_data_complete.set_index('school_name').groupby(['school_name'])\n",
    "#type of school\n",
    "type_of_school = school_df['type'].first()\n",
    "Total_students = school_df.size()"
   ]
  },
  {
   "cell_type": "code",
   "execution_count": 2998,
   "metadata": {},
   "outputs": [],
   "source": [
    "#Calculate individual school budgets - Done\n",
    "inv_school_budg = (school_data_complete.groupby([\"school_name\"]).mean()[\"budget\"])\n",
    "inv_school_budg \n",
    "student_budget = inv_school_budg/Total_students\n"
   ]
  },
  {
   "cell_type": "code",
   "execution_count": 2999,
   "metadata": {},
   "outputs": [
    {
     "data": {
      "text/plain": [
       "school_name\n",
       "Bailey High School       81.033963\n",
       "Cabrera High School      83.975780\n",
       "Figueroa High School     81.158020\n",
       "Ford High School         80.746258\n",
       "Griffin High School      83.816757\n",
       "Hernandez High School    80.934412\n",
       "Holden High School       83.814988\n",
       "Huang High School        81.182722\n",
       "Johnson High School      80.966394\n",
       "Pena High School         84.044699\n",
       "Rodriguez High School    80.744686\n",
       "Shelton High School      83.725724\n",
       "Thomas High School       83.848930\n",
       "Wilson High School       83.989488\n",
       "Wright High School       83.955000\n",
       "Name: reading_score, dtype: float64"
      ]
     },
     "execution_count": 2999,
     "metadata": {},
     "output_type": "execute_result"
    }
   ],
   "source": [
    "#average math&reading scores by individual school - Done\n",
    "math_by_school = school_data_complete.groupby([\"school_name\"]).mean()[\"math_score\"] \n",
    "reading_by_school = school_data_complete.groupby([\"school_name\"]).mean()[\"reading_score\"]\n",
    "reading_by_school"
   ]
  },
  {
   "cell_type": "code",
   "execution_count": 3000,
   "metadata": {},
   "outputs": [],
   "source": [
    "#Calculate the percent passing math & reading by indv schools - DONE\n",
    "math_percent1 = school_data_complete[school_data_complete['math_score']>=70].groupby('school_name')['Student ID'].count()/Total_students*100\n",
    "read_percent = school_data_complete[school_data_complete['reading_score']>=70].groupby('school_name')['Student ID'].count()/Total_students*100\n",
    "\n"
   ]
  },
  {
   "cell_type": "code",
   "execution_count": 3001,
   "metadata": {},
   "outputs": [],
   "source": [
    "#overall passing \n",
    "overall_passing_schools = math_percent1 + read_percent/Total_students\n"
   ]
  },
  {
   "cell_type": "markdown",
   "metadata": {},
   "source": [
    "## Top Performing Schools (By % Overall Passing)"
   ]
  },
  {
   "cell_type": "markdown",
   "metadata": {},
   "source": [
    "* Sort and display the top five performing schools by % overall passing."
   ]
  },
  {
   "cell_type": "code",
   "execution_count": 3002,
   "metadata": {
    "scrolled": true
   },
   "outputs": [
    {
     "data": {
      "text/html": [
       "<div>\n",
       "<style scoped>\n",
       "    .dataframe tbody tr th:only-of-type {\n",
       "        vertical-align: middle;\n",
       "    }\n",
       "\n",
       "    .dataframe tbody tr th {\n",
       "        vertical-align: top;\n",
       "    }\n",
       "\n",
       "    .dataframe thead th {\n",
       "        text-align: right;\n",
       "    }\n",
       "</style>\n",
       "<table border=\"1\" class=\"dataframe\">\n",
       "  <thead>\n",
       "    <tr style=\"text-align: right;\">\n",
       "      <th></th>\n",
       "      <th>School Type</th>\n",
       "      <th>Total Students</th>\n",
       "      <th>Total School Budget</th>\n",
       "      <th>Per Student Budget</th>\n",
       "      <th>Average Math Score</th>\n",
       "      <th>Average Reading Score</th>\n",
       "      <th>%Passing Math</th>\n",
       "      <th>%Passing Reading</th>\n",
       "      <th>%Overall Passing</th>\n",
       "    </tr>\n",
       "    <tr>\n",
       "      <th>school_name</th>\n",
       "      <th></th>\n",
       "      <th></th>\n",
       "      <th></th>\n",
       "      <th></th>\n",
       "      <th></th>\n",
       "      <th></th>\n",
       "      <th></th>\n",
       "      <th></th>\n",
       "      <th></th>\n",
       "    </tr>\n",
       "  </thead>\n",
       "  <tbody>\n",
       "    <tr>\n",
       "      <th>Pena High School</th>\n",
       "      <td>Charter</td>\n",
       "      <td>962</td>\n",
       "      <td>585858.0</td>\n",
       "      <td>609.0</td>\n",
       "      <td>83.839917</td>\n",
       "      <td>84.044699</td>\n",
       "      <td>94.594595</td>\n",
       "      <td>95.945946</td>\n",
       "      <td>94.694331</td>\n",
       "    </tr>\n",
       "    <tr>\n",
       "      <th>Cabrera High School</th>\n",
       "      <td>Charter</td>\n",
       "      <td>1858</td>\n",
       "      <td>1081356.0</td>\n",
       "      <td>582.0</td>\n",
       "      <td>83.061895</td>\n",
       "      <td>83.975780</td>\n",
       "      <td>94.133477</td>\n",
       "      <td>97.039828</td>\n",
       "      <td>94.185705</td>\n",
       "    </tr>\n",
       "    <tr>\n",
       "      <th>Shelton High School</th>\n",
       "      <td>Charter</td>\n",
       "      <td>1761</td>\n",
       "      <td>1056600.0</td>\n",
       "      <td>600.0</td>\n",
       "      <td>83.359455</td>\n",
       "      <td>83.725724</td>\n",
       "      <td>93.867121</td>\n",
       "      <td>95.854628</td>\n",
       "      <td>93.921553</td>\n",
       "    </tr>\n",
       "    <tr>\n",
       "      <th>Wilson High School</th>\n",
       "      <td>Charter</td>\n",
       "      <td>2283</td>\n",
       "      <td>1319574.0</td>\n",
       "      <td>578.0</td>\n",
       "      <td>83.274201</td>\n",
       "      <td>83.989488</td>\n",
       "      <td>93.867718</td>\n",
       "      <td>96.539641</td>\n",
       "      <td>93.910004</td>\n",
       "    </tr>\n",
       "    <tr>\n",
       "      <th>Griffin High School</th>\n",
       "      <td>Charter</td>\n",
       "      <td>1468</td>\n",
       "      <td>917500.0</td>\n",
       "      <td>625.0</td>\n",
       "      <td>83.351499</td>\n",
       "      <td>83.816757</td>\n",
       "      <td>93.392371</td>\n",
       "      <td>97.138965</td>\n",
       "      <td>93.458542</td>\n",
       "    </tr>\n",
       "  </tbody>\n",
       "</table>\n",
       "</div>"
      ],
      "text/plain": [
       "                    School Type  Total Students  Total School Budget  \\\n",
       "school_name                                                            \n",
       "Pena High School        Charter             962             585858.0   \n",
       "Cabrera High School     Charter            1858            1081356.0   \n",
       "Shelton High School     Charter            1761            1056600.0   \n",
       "Wilson High School      Charter            2283            1319574.0   \n",
       "Griffin High School     Charter            1468             917500.0   \n",
       "\n",
       "                     Per Student Budget  Average Math Score  \\\n",
       "school_name                                                   \n",
       "Pena High School                  609.0           83.839917   \n",
       "Cabrera High School               582.0           83.061895   \n",
       "Shelton High School               600.0           83.359455   \n",
       "Wilson High School                578.0           83.274201   \n",
       "Griffin High School               625.0           83.351499   \n",
       "\n",
       "                     Average Reading Score  %Passing Math  %Passing Reading  \\\n",
       "school_name                                                                   \n",
       "Pena High School                 84.044699      94.594595         95.945946   \n",
       "Cabrera High School              83.975780      94.133477         97.039828   \n",
       "Shelton High School              83.725724      93.867121         95.854628   \n",
       "Wilson High School               83.989488      93.867718         96.539641   \n",
       "Griffin High School              83.816757      93.392371         97.138965   \n",
       "\n",
       "                     %Overall Passing  \n",
       "school_name                            \n",
       "Pena High School            94.694331  \n",
       "Cabrera High School         94.185705  \n",
       "Shelton High School         93.921553  \n",
       "Wilson High School          93.910004  \n",
       "Griffin High School         93.458542  "
      ]
     },
     "execution_count": 3002,
     "metadata": {},
     "output_type": "execute_result"
    }
   ],
   "source": [
    "#indv_school_df = indv_school_df.sort_values(by='%Overall Passing', ascending=False)\n",
    "indv_school_df.sort_values(by='%Overall Passing', ascending=False , inplace=True)\n",
    "indv_school_df.head(5)"
   ]
  },
  {
   "cell_type": "code",
   "execution_count": null,
   "metadata": {},
   "outputs": [],
   "source": []
  },
  {
   "cell_type": "markdown",
   "metadata": {},
   "source": [
    "## Bottom Performing Schools (By % Overall Passing)"
   ]
  },
  {
   "cell_type": "markdown",
   "metadata": {},
   "source": [
    "* Sort and display the five worst-performing schools by % overall passing."
   ]
  },
  {
   "cell_type": "code",
   "execution_count": 3003,
   "metadata": {},
   "outputs": [
    {
     "data": {
      "text/html": [
       "<div>\n",
       "<style scoped>\n",
       "    .dataframe tbody tr th:only-of-type {\n",
       "        vertical-align: middle;\n",
       "    }\n",
       "\n",
       "    .dataframe tbody tr th {\n",
       "        vertical-align: top;\n",
       "    }\n",
       "\n",
       "    .dataframe thead th {\n",
       "        text-align: right;\n",
       "    }\n",
       "</style>\n",
       "<table border=\"1\" class=\"dataframe\">\n",
       "  <thead>\n",
       "    <tr style=\"text-align: right;\">\n",
       "      <th></th>\n",
       "      <th>School Type</th>\n",
       "      <th>Total Students</th>\n",
       "      <th>Total School Budget</th>\n",
       "      <th>Per Student Budget</th>\n",
       "      <th>Average Math Score</th>\n",
       "      <th>Average Reading Score</th>\n",
       "      <th>%Passing Math</th>\n",
       "      <th>%Passing Reading</th>\n",
       "      <th>%Overall Passing</th>\n",
       "    </tr>\n",
       "    <tr>\n",
       "      <th>school_name</th>\n",
       "      <th></th>\n",
       "      <th></th>\n",
       "      <th></th>\n",
       "      <th></th>\n",
       "      <th></th>\n",
       "      <th></th>\n",
       "      <th></th>\n",
       "      <th></th>\n",
       "      <th></th>\n",
       "    </tr>\n",
       "  </thead>\n",
       "  <tbody>\n",
       "    <tr>\n",
       "      <th>Huang High School</th>\n",
       "      <td>District</td>\n",
       "      <td>2917</td>\n",
       "      <td>1910635.0</td>\n",
       "      <td>655.0</td>\n",
       "      <td>76.629414</td>\n",
       "      <td>81.182722</td>\n",
       "      <td>65.683922</td>\n",
       "      <td>81.316421</td>\n",
       "      <td>65.711799</td>\n",
       "    </tr>\n",
       "    <tr>\n",
       "      <th>Figueroa High School</th>\n",
       "      <td>District</td>\n",
       "      <td>2949</td>\n",
       "      <td>1884411.0</td>\n",
       "      <td>639.0</td>\n",
       "      <td>76.711767</td>\n",
       "      <td>81.158020</td>\n",
       "      <td>65.988471</td>\n",
       "      <td>80.739234</td>\n",
       "      <td>66.015849</td>\n",
       "    </tr>\n",
       "    <tr>\n",
       "      <th>Johnson High School</th>\n",
       "      <td>District</td>\n",
       "      <td>4761</td>\n",
       "      <td>3094650.0</td>\n",
       "      <td>650.0</td>\n",
       "      <td>77.072464</td>\n",
       "      <td>80.966394</td>\n",
       "      <td>66.057551</td>\n",
       "      <td>81.222432</td>\n",
       "      <td>66.074611</td>\n",
       "    </tr>\n",
       "    <tr>\n",
       "      <th>Rodriguez High School</th>\n",
       "      <td>District</td>\n",
       "      <td>3999</td>\n",
       "      <td>2547363.0</td>\n",
       "      <td>637.0</td>\n",
       "      <td>76.842711</td>\n",
       "      <td>80.744686</td>\n",
       "      <td>66.366592</td>\n",
       "      <td>80.220055</td>\n",
       "      <td>66.386652</td>\n",
       "    </tr>\n",
       "    <tr>\n",
       "      <th>Bailey High School</th>\n",
       "      <td>District</td>\n",
       "      <td>4976</td>\n",
       "      <td>3124928.0</td>\n",
       "      <td>628.0</td>\n",
       "      <td>77.048432</td>\n",
       "      <td>81.033963</td>\n",
       "      <td>66.680064</td>\n",
       "      <td>81.933280</td>\n",
       "      <td>66.696530</td>\n",
       "    </tr>\n",
       "  </tbody>\n",
       "</table>\n",
       "</div>"
      ],
      "text/plain": [
       "                      School Type  Total Students  Total School Budget  \\\n",
       "school_name                                                              \n",
       "Huang High School        District            2917            1910635.0   \n",
       "Figueroa High School     District            2949            1884411.0   \n",
       "Johnson High School      District            4761            3094650.0   \n",
       "Rodriguez High School    District            3999            2547363.0   \n",
       "Bailey High School       District            4976            3124928.0   \n",
       "\n",
       "                       Per Student Budget  Average Math Score  \\\n",
       "school_name                                                     \n",
       "Huang High School                   655.0           76.629414   \n",
       "Figueroa High School                639.0           76.711767   \n",
       "Johnson High School                 650.0           77.072464   \n",
       "Rodriguez High School               637.0           76.842711   \n",
       "Bailey High School                  628.0           77.048432   \n",
       "\n",
       "                       Average Reading Score  %Passing Math  %Passing Reading  \\\n",
       "school_name                                                                     \n",
       "Huang High School                  81.182722      65.683922         81.316421   \n",
       "Figueroa High School               81.158020      65.988471         80.739234   \n",
       "Johnson High School                80.966394      66.057551         81.222432   \n",
       "Rodriguez High School              80.744686      66.366592         80.220055   \n",
       "Bailey High School                 81.033963      66.680064         81.933280   \n",
       "\n",
       "                       %Overall Passing  \n",
       "school_name                              \n",
       "Huang High School             65.711799  \n",
       "Figueroa High School          66.015849  \n",
       "Johnson High School           66.074611  \n",
       "Rodriguez High School         66.386652  \n",
       "Bailey High School            66.696530  "
      ]
     },
     "execution_count": 3003,
     "metadata": {},
     "output_type": "execute_result"
    }
   ],
   "source": [
    "#calculate bottom performing schools - done\n",
    "indv_school_df.sort_values(by='%Overall Passing', ascending=True , inplace=True)\n",
    "indv_school_df.head(5)"
   ]
  },
  {
   "cell_type": "markdown",
   "metadata": {
    "collapsed": true
   },
   "source": [
    "## Math Scores by Grade"
   ]
  },
  {
   "cell_type": "markdown",
   "metadata": {},
   "source": [
    "* Create a table that lists the average Reading Score for students of each grade level (9th, 10th, 11th, 12th) at each school.\n",
    "\n",
    "  * Create a pandas series for each grade. Hint: use a conditional statement.\n",
    "  \n",
    "  * Group each series by school\n",
    "  \n",
    "  * Combine the series into a dataframe\n",
    "  \n",
    "  * Optional: give the displayed data cleaner formatting"
   ]
  },
  {
   "cell_type": "code",
   "execution_count": 3004,
   "metadata": {},
   "outputs": [
    {
     "data": {
      "text/html": [
       "<style type=\"text/css\">\n",
       "</style>\n",
       "<table id=\"T_e36e0_\">\n",
       "  <thead>\n",
       "    <tr>\n",
       "      <th class=\"blank level0\" >&nbsp;</th>\n",
       "      <th class=\"col_heading level0 col0\" >9th</th>\n",
       "      <th class=\"col_heading level0 col1\" >10th</th>\n",
       "      <th class=\"col_heading level0 col2\" >11th</th>\n",
       "      <th class=\"col_heading level0 col3\" >12th</th>\n",
       "    </tr>\n",
       "    <tr>\n",
       "      <th class=\"index_name level0\" >School_Name</th>\n",
       "      <th class=\"blank col0\" >&nbsp;</th>\n",
       "      <th class=\"blank col1\" >&nbsp;</th>\n",
       "      <th class=\"blank col2\" >&nbsp;</th>\n",
       "      <th class=\"blank col3\" >&nbsp;</th>\n",
       "    </tr>\n",
       "  </thead>\n",
       "  <tbody>\n",
       "    <tr>\n",
       "      <th id=\"T_e36e0_level0_row0\" class=\"row_heading level0 row0\" >Bailey High School</th>\n",
       "      <td id=\"T_e36e0_row0_col0\" class=\"data row0 col0\" >77.083676</td>\n",
       "      <td id=\"T_e36e0_row0_col1\" class=\"data row0 col1\" >76.996772</td>\n",
       "      <td id=\"T_e36e0_row0_col2\" class=\"data row0 col2\" >77.515588</td>\n",
       "      <td id=\"T_e36e0_row0_col3\" class=\"data row0 col3\" >76.492218</td>\n",
       "    </tr>\n",
       "    <tr>\n",
       "      <th id=\"T_e36e0_level0_row1\" class=\"row_heading level0 row1\" >Cabrera High School</th>\n",
       "      <td id=\"T_e36e0_row1_col0\" class=\"data row1 col0\" >83.094697</td>\n",
       "      <td id=\"T_e36e0_row1_col1\" class=\"data row1 col1\" >83.154506</td>\n",
       "      <td id=\"T_e36e0_row1_col2\" class=\"data row1 col2\" >82.765560</td>\n",
       "      <td id=\"T_e36e0_row1_col3\" class=\"data row1 col3\" >83.277487</td>\n",
       "    </tr>\n",
       "    <tr>\n",
       "      <th id=\"T_e36e0_level0_row2\" class=\"row_heading level0 row2\" >Figueroa High School</th>\n",
       "      <td id=\"T_e36e0_row2_col0\" class=\"data row2 col0\" >76.403037</td>\n",
       "      <td id=\"T_e36e0_row2_col1\" class=\"data row2 col1\" >76.539974</td>\n",
       "      <td id=\"T_e36e0_row2_col2\" class=\"data row2 col2\" >76.884344</td>\n",
       "      <td id=\"T_e36e0_row2_col3\" class=\"data row2 col3\" >77.151369</td>\n",
       "    </tr>\n",
       "    <tr>\n",
       "      <th id=\"T_e36e0_level0_row3\" class=\"row_heading level0 row3\" >Ford High School</th>\n",
       "      <td id=\"T_e36e0_row3_col0\" class=\"data row3 col0\" >77.361345</td>\n",
       "      <td id=\"T_e36e0_row3_col1\" class=\"data row3 col1\" >77.672316</td>\n",
       "      <td id=\"T_e36e0_row3_col2\" class=\"data row3 col2\" >76.918058</td>\n",
       "      <td id=\"T_e36e0_row3_col3\" class=\"data row3 col3\" >76.179963</td>\n",
       "    </tr>\n",
       "    <tr>\n",
       "      <th id=\"T_e36e0_level0_row4\" class=\"row_heading level0 row4\" >Griffin High School</th>\n",
       "      <td id=\"T_e36e0_row4_col0\" class=\"data row4 col0\" >82.044010</td>\n",
       "      <td id=\"T_e36e0_row4_col1\" class=\"data row4 col1\" >84.229064</td>\n",
       "      <td id=\"T_e36e0_row4_col2\" class=\"data row4 col2\" >83.842105</td>\n",
       "      <td id=\"T_e36e0_row4_col3\" class=\"data row4 col3\" >83.356164</td>\n",
       "    </tr>\n",
       "    <tr>\n",
       "      <th id=\"T_e36e0_level0_row5\" class=\"row_heading level0 row5\" >Hernandez High School</th>\n",
       "      <td id=\"T_e36e0_row5_col0\" class=\"data row5 col0\" >77.438495</td>\n",
       "      <td id=\"T_e36e0_row5_col1\" class=\"data row5 col1\" >77.337408</td>\n",
       "      <td id=\"T_e36e0_row5_col2\" class=\"data row5 col2\" >77.136029</td>\n",
       "      <td id=\"T_e36e0_row5_col3\" class=\"data row5 col3\" >77.186567</td>\n",
       "    </tr>\n",
       "    <tr>\n",
       "      <th id=\"T_e36e0_level0_row6\" class=\"row_heading level0 row6\" >Holden High School</th>\n",
       "      <td id=\"T_e36e0_row6_col0\" class=\"data row6 col0\" >83.787402</td>\n",
       "      <td id=\"T_e36e0_row6_col1\" class=\"data row6 col1\" >83.429825</td>\n",
       "      <td id=\"T_e36e0_row6_col2\" class=\"data row6 col2\" >85.000000</td>\n",
       "      <td id=\"T_e36e0_row6_col3\" class=\"data row6 col3\" >82.855422</td>\n",
       "    </tr>\n",
       "    <tr>\n",
       "      <th id=\"T_e36e0_level0_row7\" class=\"row_heading level0 row7\" >Huang High School</th>\n",
       "      <td id=\"T_e36e0_row7_col0\" class=\"data row7 col0\" >77.027251</td>\n",
       "      <td id=\"T_e36e0_row7_col1\" class=\"data row7 col1\" >75.908735</td>\n",
       "      <td id=\"T_e36e0_row7_col2\" class=\"data row7 col2\" >76.446602</td>\n",
       "      <td id=\"T_e36e0_row7_col3\" class=\"data row7 col3\" >77.225641</td>\n",
       "    </tr>\n",
       "    <tr>\n",
       "      <th id=\"T_e36e0_level0_row8\" class=\"row_heading level0 row8\" >Johnson High School</th>\n",
       "      <td id=\"T_e36e0_row8_col0\" class=\"data row8 col0\" >77.187857</td>\n",
       "      <td id=\"T_e36e0_row8_col1\" class=\"data row8 col1\" >76.691117</td>\n",
       "      <td id=\"T_e36e0_row8_col2\" class=\"data row8 col2\" >77.491653</td>\n",
       "      <td id=\"T_e36e0_row8_col3\" class=\"data row8 col3\" >76.863248</td>\n",
       "    </tr>\n",
       "    <tr>\n",
       "      <th id=\"T_e36e0_level0_row9\" class=\"row_heading level0 row9\" >Pena High School</th>\n",
       "      <td id=\"T_e36e0_row9_col0\" class=\"data row9 col0\" >83.625455</td>\n",
       "      <td id=\"T_e36e0_row9_col1\" class=\"data row9 col1\" >83.372000</td>\n",
       "      <td id=\"T_e36e0_row9_col2\" class=\"data row9 col2\" >84.328125</td>\n",
       "      <td id=\"T_e36e0_row9_col3\" class=\"data row9 col3\" >84.121547</td>\n",
       "    </tr>\n",
       "    <tr>\n",
       "      <th id=\"T_e36e0_level0_row10\" class=\"row_heading level0 row10\" >Rodriguez High School</th>\n",
       "      <td id=\"T_e36e0_row10_col0\" class=\"data row10 col0\" >76.859966</td>\n",
       "      <td id=\"T_e36e0_row10_col1\" class=\"data row10 col1\" >76.612500</td>\n",
       "      <td id=\"T_e36e0_row10_col2\" class=\"data row10 col2\" >76.395626</td>\n",
       "      <td id=\"T_e36e0_row10_col3\" class=\"data row10 col3\" >77.690748</td>\n",
       "    </tr>\n",
       "    <tr>\n",
       "      <th id=\"T_e36e0_level0_row11\" class=\"row_heading level0 row11\" >Shelton High School</th>\n",
       "      <td id=\"T_e36e0_row11_col0\" class=\"data row11 col0\" >83.420755</td>\n",
       "      <td id=\"T_e36e0_row11_col1\" class=\"data row11 col1\" >82.917411</td>\n",
       "      <td id=\"T_e36e0_row11_col2\" class=\"data row11 col2\" >83.383495</td>\n",
       "      <td id=\"T_e36e0_row11_col3\" class=\"data row11 col3\" >83.778976</td>\n",
       "    </tr>\n",
       "    <tr>\n",
       "      <th id=\"T_e36e0_level0_row12\" class=\"row_heading level0 row12\" >Thomas High School</th>\n",
       "      <td id=\"T_e36e0_row12_col0\" class=\"data row12 col0\" >83.590022</td>\n",
       "      <td id=\"T_e36e0_row12_col1\" class=\"data row12 col1\" >83.087886</td>\n",
       "      <td id=\"T_e36e0_row12_col2\" class=\"data row12 col2\" >83.498795</td>\n",
       "      <td id=\"T_e36e0_row12_col3\" class=\"data row12 col3\" >83.497041</td>\n",
       "    </tr>\n",
       "    <tr>\n",
       "      <th id=\"T_e36e0_level0_row13\" class=\"row_heading level0 row13\" >Wilson High School</th>\n",
       "      <td id=\"T_e36e0_row13_col0\" class=\"data row13 col0\" >83.085578</td>\n",
       "      <td id=\"T_e36e0_row13_col1\" class=\"data row13 col1\" >83.724422</td>\n",
       "      <td id=\"T_e36e0_row13_col2\" class=\"data row13 col2\" >83.195326</td>\n",
       "      <td id=\"T_e36e0_row13_col3\" class=\"data row13 col3\" >83.035794</td>\n",
       "    </tr>\n",
       "    <tr>\n",
       "      <th id=\"T_e36e0_level0_row14\" class=\"row_heading level0 row14\" >Wright High School</th>\n",
       "      <td id=\"T_e36e0_row14_col0\" class=\"data row14 col0\" >83.264706</td>\n",
       "      <td id=\"T_e36e0_row14_col1\" class=\"data row14 col1\" >84.010288</td>\n",
       "      <td id=\"T_e36e0_row14_col2\" class=\"data row14 col2\" >83.836782</td>\n",
       "      <td id=\"T_e36e0_row14_col3\" class=\"data row14 col3\" >83.644986</td>\n",
       "    </tr>\n",
       "  </tbody>\n",
       "</table>\n"
      ],
      "text/plain": [
       "<pandas.io.formats.style.Styler at 0x7fc23f1a96d0>"
      ]
     },
     "execution_count": 3004,
     "metadata": {},
     "output_type": "execute_result"
    }
   ],
   "source": [
    "#Math By Grade - done\n",
    "ninth_grade_math = student_data.loc[student_data['grade'] == '9th'].groupby('school_name')[\"math_score\"].mean()\n",
    "tenth_grade_math = student_data.loc[student_data['grade'] == '10th'].groupby('school_name')[\"math_score\"].mean()\n",
    "eleventh_grade_math = student_data.loc[student_data['grade'] == '11th'].groupby('school_name')[\"math_score\"].mean()\n",
    "twelfth_grade_math = student_data.loc[student_data['grade'] == '12th'].groupby('school_name')[\"math_score\"].mean()\n",
    "\n",
    "#grade level average\n",
    "grade_level_df = pd.DataFrame({\n",
    "                        '9th': ninth_grade_math,\n",
    "                        '10th': tenth_grade_math,\n",
    "                        '11th': eleventh_grade_math,\n",
    "                        '12th': twelfth_grade_math\n",
    "})\n",
    "grade_level_df = grade_level_df[['9th', '10th', '11th', '12th']]\n",
    "grade_level_df.index.name = 'School_Name'\n",
    "grade_level_df.style.format({'9th': '{:.6f}', \n",
    "                          \"10th\": '{:.6f}', \n",
    "                          \"11th\": \"{:.6f}\", \n",
    "                          \"12th\": \"{:.6f}\"})"
   ]
  },
  {
   "cell_type": "markdown",
   "metadata": {},
   "source": [
    "## Reading Score by Grade "
   ]
  },
  {
   "cell_type": "markdown",
   "metadata": {},
   "source": [
    "* Perform the same operations as above for reading scores"
   ]
  },
  {
   "cell_type": "code",
   "execution_count": 3005,
   "metadata": {},
   "outputs": [
    {
     "data": {
      "text/html": [
       "<style type=\"text/css\">\n",
       "</style>\n",
       "<table id=\"T_6d49f_\">\n",
       "  <thead>\n",
       "    <tr>\n",
       "      <th class=\"blank level0\" >&nbsp;</th>\n",
       "      <th class=\"col_heading level0 col0\" >9th</th>\n",
       "      <th class=\"col_heading level0 col1\" >10th</th>\n",
       "      <th class=\"col_heading level0 col2\" >11th</th>\n",
       "      <th class=\"col_heading level0 col3\" >12th</th>\n",
       "    </tr>\n",
       "    <tr>\n",
       "      <th class=\"index_name level0\" >School_Name</th>\n",
       "      <th class=\"blank col0\" >&nbsp;</th>\n",
       "      <th class=\"blank col1\" >&nbsp;</th>\n",
       "      <th class=\"blank col2\" >&nbsp;</th>\n",
       "      <th class=\"blank col3\" >&nbsp;</th>\n",
       "    </tr>\n",
       "  </thead>\n",
       "  <tbody>\n",
       "    <tr>\n",
       "      <th id=\"T_6d49f_level0_row0\" class=\"row_heading level0 row0\" >Bailey High School</th>\n",
       "      <td id=\"T_6d49f_row0_col0\" class=\"data row0 col0\" >81.303155</td>\n",
       "      <td id=\"T_6d49f_row0_col1\" class=\"data row0 col1\" >80.907183</td>\n",
       "      <td id=\"T_6d49f_row0_col2\" class=\"data row0 col2\" >80.945643</td>\n",
       "      <td id=\"T_6d49f_row0_col3\" class=\"data row0 col3\" >80.912451</td>\n",
       "    </tr>\n",
       "    <tr>\n",
       "      <th id=\"T_6d49f_level0_row1\" class=\"row_heading level0 row1\" >Cabrera High School</th>\n",
       "      <td id=\"T_6d49f_row1_col0\" class=\"data row1 col0\" >83.676136</td>\n",
       "      <td id=\"T_6d49f_row1_col1\" class=\"data row1 col1\" >84.253219</td>\n",
       "      <td id=\"T_6d49f_row1_col2\" class=\"data row1 col2\" >83.788382</td>\n",
       "      <td id=\"T_6d49f_row1_col3\" class=\"data row1 col3\" >84.287958</td>\n",
       "    </tr>\n",
       "    <tr>\n",
       "      <th id=\"T_6d49f_level0_row2\" class=\"row_heading level0 row2\" >Figueroa High School</th>\n",
       "      <td id=\"T_6d49f_row2_col0\" class=\"data row2 col0\" >81.198598</td>\n",
       "      <td id=\"T_6d49f_row2_col1\" class=\"data row2 col1\" >81.408912</td>\n",
       "      <td id=\"T_6d49f_row2_col2\" class=\"data row2 col2\" >80.640339</td>\n",
       "      <td id=\"T_6d49f_row2_col3\" class=\"data row2 col3\" >81.384863</td>\n",
       "    </tr>\n",
       "    <tr>\n",
       "      <th id=\"T_6d49f_level0_row3\" class=\"row_heading level0 row3\" >Ford High School</th>\n",
       "      <td id=\"T_6d49f_row3_col0\" class=\"data row3 col0\" >80.632653</td>\n",
       "      <td id=\"T_6d49f_row3_col1\" class=\"data row3 col1\" >81.262712</td>\n",
       "      <td id=\"T_6d49f_row3_col2\" class=\"data row3 col2\" >80.403642</td>\n",
       "      <td id=\"T_6d49f_row3_col3\" class=\"data row3 col3\" >80.662338</td>\n",
       "    </tr>\n",
       "    <tr>\n",
       "      <th id=\"T_6d49f_level0_row4\" class=\"row_heading level0 row4\" >Griffin High School</th>\n",
       "      <td id=\"T_6d49f_row4_col0\" class=\"data row4 col0\" >83.369193</td>\n",
       "      <td id=\"T_6d49f_row4_col1\" class=\"data row4 col1\" >83.706897</td>\n",
       "      <td id=\"T_6d49f_row4_col2\" class=\"data row4 col2\" >84.288089</td>\n",
       "      <td id=\"T_6d49f_row4_col3\" class=\"data row4 col3\" >84.013699</td>\n",
       "    </tr>\n",
       "    <tr>\n",
       "      <th id=\"T_6d49f_level0_row5\" class=\"row_heading level0 row5\" >Hernandez High School</th>\n",
       "      <td id=\"T_6d49f_row5_col0\" class=\"data row5 col0\" >80.866860</td>\n",
       "      <td id=\"T_6d49f_row5_col1\" class=\"data row5 col1\" >80.660147</td>\n",
       "      <td id=\"T_6d49f_row5_col2\" class=\"data row5 col2\" >81.396140</td>\n",
       "      <td id=\"T_6d49f_row5_col3\" class=\"data row5 col3\" >80.857143</td>\n",
       "    </tr>\n",
       "    <tr>\n",
       "      <th id=\"T_6d49f_level0_row6\" class=\"row_heading level0 row6\" >Holden High School</th>\n",
       "      <td id=\"T_6d49f_row6_col0\" class=\"data row6 col0\" >83.677165</td>\n",
       "      <td id=\"T_6d49f_row6_col1\" class=\"data row6 col1\" >83.324561</td>\n",
       "      <td id=\"T_6d49f_row6_col2\" class=\"data row6 col2\" >83.815534</td>\n",
       "      <td id=\"T_6d49f_row6_col3\" class=\"data row6 col3\" >84.698795</td>\n",
       "    </tr>\n",
       "    <tr>\n",
       "      <th id=\"T_6d49f_level0_row7\" class=\"row_heading level0 row7\" >Huang High School</th>\n",
       "      <td id=\"T_6d49f_row7_col0\" class=\"data row7 col0\" >81.290284</td>\n",
       "      <td id=\"T_6d49f_row7_col1\" class=\"data row7 col1\" >81.512386</td>\n",
       "      <td id=\"T_6d49f_row7_col2\" class=\"data row7 col2\" >81.417476</td>\n",
       "      <td id=\"T_6d49f_row7_col3\" class=\"data row7 col3\" >80.305983</td>\n",
       "    </tr>\n",
       "    <tr>\n",
       "      <th id=\"T_6d49f_level0_row8\" class=\"row_heading level0 row8\" >Johnson High School</th>\n",
       "      <td id=\"T_6d49f_row8_col0\" class=\"data row8 col0\" >81.260714</td>\n",
       "      <td id=\"T_6d49f_row8_col1\" class=\"data row8 col1\" >80.773431</td>\n",
       "      <td id=\"T_6d49f_row8_col2\" class=\"data row8 col2\" >80.616027</td>\n",
       "      <td id=\"T_6d49f_row8_col3\" class=\"data row8 col3\" >81.227564</td>\n",
       "    </tr>\n",
       "    <tr>\n",
       "      <th id=\"T_6d49f_level0_row9\" class=\"row_heading level0 row9\" >Pena High School</th>\n",
       "      <td id=\"T_6d49f_row9_col0\" class=\"data row9 col0\" >83.807273</td>\n",
       "      <td id=\"T_6d49f_row9_col1\" class=\"data row9 col1\" >83.612000</td>\n",
       "      <td id=\"T_6d49f_row9_col2\" class=\"data row9 col2\" >84.335938</td>\n",
       "      <td id=\"T_6d49f_row9_col3\" class=\"data row9 col3\" >84.591160</td>\n",
       "    </tr>\n",
       "    <tr>\n",
       "      <th id=\"T_6d49f_level0_row10\" class=\"row_heading level0 row10\" >Rodriguez High School</th>\n",
       "      <td id=\"T_6d49f_row10_col0\" class=\"data row10 col0\" >80.993127</td>\n",
       "      <td id=\"T_6d49f_row10_col1\" class=\"data row10 col1\" >80.629808</td>\n",
       "      <td id=\"T_6d49f_row10_col2\" class=\"data row10 col2\" >80.864811</td>\n",
       "      <td id=\"T_6d49f_row10_col3\" class=\"data row10 col3\" >80.376426</td>\n",
       "    </tr>\n",
       "    <tr>\n",
       "      <th id=\"T_6d49f_level0_row11\" class=\"row_heading level0 row11\" >Shelton High School</th>\n",
       "      <td id=\"T_6d49f_row11_col0\" class=\"data row11 col0\" >84.122642</td>\n",
       "      <td id=\"T_6d49f_row11_col1\" class=\"data row11 col1\" >83.441964</td>\n",
       "      <td id=\"T_6d49f_row11_col2\" class=\"data row11 col2\" >84.373786</td>\n",
       "      <td id=\"T_6d49f_row11_col3\" class=\"data row11 col3\" >82.781671</td>\n",
       "    </tr>\n",
       "    <tr>\n",
       "      <th id=\"T_6d49f_level0_row12\" class=\"row_heading level0 row12\" >Thomas High School</th>\n",
       "      <td id=\"T_6d49f_row12_col0\" class=\"data row12 col0\" >83.728850</td>\n",
       "      <td id=\"T_6d49f_row12_col1\" class=\"data row12 col1\" >84.254157</td>\n",
       "      <td id=\"T_6d49f_row12_col2\" class=\"data row12 col2\" >83.585542</td>\n",
       "      <td id=\"T_6d49f_row12_col3\" class=\"data row12 col3\" >83.831361</td>\n",
       "    </tr>\n",
       "    <tr>\n",
       "      <th id=\"T_6d49f_level0_row13\" class=\"row_heading level0 row13\" >Wilson High School</th>\n",
       "      <td id=\"T_6d49f_row13_col0\" class=\"data row13 col0\" >83.939778</td>\n",
       "      <td id=\"T_6d49f_row13_col1\" class=\"data row13 col1\" >84.021452</td>\n",
       "      <td id=\"T_6d49f_row13_col2\" class=\"data row13 col2\" >83.764608</td>\n",
       "      <td id=\"T_6d49f_row13_col3\" class=\"data row13 col3\" >84.317673</td>\n",
       "    </tr>\n",
       "    <tr>\n",
       "      <th id=\"T_6d49f_level0_row14\" class=\"row_heading level0 row14\" >Wright High School</th>\n",
       "      <td id=\"T_6d49f_row14_col0\" class=\"data row14 col0\" >83.833333</td>\n",
       "      <td id=\"T_6d49f_row14_col1\" class=\"data row14 col1\" >83.812757</td>\n",
       "      <td id=\"T_6d49f_row14_col2\" class=\"data row14 col2\" >84.156322</td>\n",
       "      <td id=\"T_6d49f_row14_col3\" class=\"data row14 col3\" >84.073171</td>\n",
       "    </tr>\n",
       "  </tbody>\n",
       "</table>\n"
      ],
      "text/plain": [
       "<pandas.io.formats.style.Styler at 0x7fc23ff79af0>"
      ]
     },
     "execution_count": 3005,
     "metadata": {},
     "output_type": "execute_result"
    }
   ],
   "source": [
    "#calculate scores by grade - done\n",
    "ninth_grade_reading = student_data.loc[student_data['grade'] == '9th'].groupby('school_name')[\"reading_score\"].mean()\n",
    "tenth_grade_reading = student_data.loc[student_data['grade'] == '10th'].groupby('school_name')[\"reading_score\"].mean()\n",
    "eleventh_grade_reading = student_data.loc[student_data['grade'] == '11th'].groupby('school_name')[\"reading_score\"].mean()\n",
    "twelfth_grade_reading = student_data.loc[student_data['grade'] == '12th'].groupby('school_name')[\"reading_score\"].mean()\n",
    "\n",
    "#grade level average\n",
    "grade_level_df = pd.DataFrame({\n",
    "                        '9th': ninth_grade_reading,\n",
    "                        '10th': tenth_grade_reading,\n",
    "                        '11th': eleventh_grade_reading,\n",
    "                        '12th': twelfth_grade_reading\n",
    "})\n",
    "grade_level_df = grade_level_df[['9th', '10th', '11th', '12th']]\n",
    "grade_level_df.index.name = 'School_Name'\n",
    "grade_level_df.style.format({'9th': '{:.6f}', \n",
    "                          \"10th\": '{:.6f}', \n",
    "                          \"11th\": \"{:.6f}\", \n",
    "                          \"12th\": \"{:.6f}\"})"
   ]
  },
  {
   "cell_type": "markdown",
   "metadata": {},
   "source": [
    "## Scores by School Spending"
   ]
  },
  {
   "cell_type": "markdown",
   "metadata": {},
   "source": [
    "* Create a table that breaks down school performances based on average Spending Ranges (Per Student). Use 4 reasonable bins to group school spending. Include in the table each of the following:\n",
    "  * Average Math Score\n",
    "  * Average Reading Score\n",
    "  * % Passing Math\n",
    "  * % Passing Reading\n",
    "  * Overall Passing Rate (Average of the above two)"
   ]
  },
  {
   "cell_type": "code",
   "execution_count": 3006,
   "metadata": {},
   "outputs": [
    {
     "data": {
      "text/html": [
       "<style type=\"text/css\">\n",
       "</style>\n",
       "<table id=\"T_5d022_\">\n",
       "  <thead>\n",
       "    <tr>\n",
       "      <th class=\"blank level0\" >&nbsp;</th>\n",
       "      <th class=\"col_heading level0 col0\" >Average Math Score</th>\n",
       "      <th class=\"col_heading level0 col1\" >Average Reading Score</th>\n",
       "      <th class=\"col_heading level0 col2\" >% Passing Math</th>\n",
       "      <th class=\"col_heading level0 col3\" >% Passing Reading</th>\n",
       "      <th class=\"col_heading level0 col4\" >Overall Passing Rate</th>\n",
       "    </tr>\n",
       "    <tr>\n",
       "      <th class=\"index_name level0\" >Spending Ranges (Per Student)</th>\n",
       "      <th class=\"blank col0\" >&nbsp;</th>\n",
       "      <th class=\"blank col1\" >&nbsp;</th>\n",
       "      <th class=\"blank col2\" >&nbsp;</th>\n",
       "      <th class=\"blank col3\" >&nbsp;</th>\n",
       "      <th class=\"blank col4\" >&nbsp;</th>\n",
       "    </tr>\n",
       "  </thead>\n",
       "  <tbody>\n",
       "    <tr>\n",
       "      <th id=\"T_5d022_level0_row0\" class=\"row_heading level0 row0\" >$0-585</th>\n",
       "      <td id=\"T_5d022_row0_col0\" class=\"data row0 col0\" >83.4</td>\n",
       "      <td id=\"T_5d022_row0_col1\" class=\"data row0 col1\" >84.0</td>\n",
       "      <td id=\"T_5d022_row0_col2\" class=\"data row0 col2\" >93.7%</td>\n",
       "      <td id=\"T_5d022_row0_col3\" class=\"data row0 col3\" >96.7%</td>\n",
       "      <td id=\"T_5d022_row0_col4\" class=\"data row0 col4\" >90.6%</td>\n",
       "    </tr>\n",
       "    <tr>\n",
       "      <th id=\"T_5d022_level0_row1\" class=\"row_heading level0 row1\" >$586-615</th>\n",
       "      <td id=\"T_5d022_row1_col0\" class=\"data row1 col0\" >83.5</td>\n",
       "      <td id=\"T_5d022_row1_col1\" class=\"data row1 col1\" >83.8</td>\n",
       "      <td id=\"T_5d022_row1_col2\" class=\"data row1 col2\" >94.1%</td>\n",
       "      <td id=\"T_5d022_row1_col3\" class=\"data row1 col3\" >95.9%</td>\n",
       "      <td id=\"T_5d022_row1_col4\" class=\"data row1 col4\" >90.1%</td>\n",
       "    </tr>\n",
       "    <tr>\n",
       "      <th id=\"T_5d022_level0_row2\" class=\"row_heading level0 row2\" >$616-645</th>\n",
       "      <td id=\"T_5d022_row2_col0\" class=\"data row2 col0\" >78.1</td>\n",
       "      <td id=\"T_5d022_row2_col1\" class=\"data row2 col1\" >81.4</td>\n",
       "      <td id=\"T_5d022_row2_col2\" class=\"data row2 col2\" >71.4%</td>\n",
       "      <td id=\"T_5d022_row2_col3\" class=\"data row2 col3\" >83.6%</td>\n",
       "      <td id=\"T_5d022_row2_col4\" class=\"data row2 col4\" >60.3%</td>\n",
       "    </tr>\n",
       "    <tr>\n",
       "      <th id=\"T_5d022_level0_row3\" class=\"row_heading level0 row3\" >$646-675</th>\n",
       "      <td id=\"T_5d022_row3_col0\" class=\"data row3 col0\" >77.0</td>\n",
       "      <td id=\"T_5d022_row3_col1\" class=\"data row3 col1\" >81.0</td>\n",
       "      <td id=\"T_5d022_row3_col2\" class=\"data row3 col2\" >66.2%</td>\n",
       "      <td id=\"T_5d022_row3_col3\" class=\"data row3 col3\" >81.1%</td>\n",
       "      <td id=\"T_5d022_row3_col4\" class=\"data row3 col4\" >53.5%</td>\n",
       "    </tr>\n",
       "  </tbody>\n",
       "</table>\n"
      ],
      "text/plain": [
       "<pandas.io.formats.style.Styler at 0x7fc2402bb580>"
      ]
     },
     "execution_count": 3006,
     "metadata": {},
     "output_type": "execute_result"
    }
   ],
   "source": [
    "#calculate scores by school spending - DONE\n",
    "bins = [0, 585, 615, 645, 675]\n",
    "bin_name = ['$0-585', '$586-615', '$616-645', '$646-675']\n",
    "school_data_complete['spending_bins'] = pd.cut(school_data_complete['budget']/school_data_complete['size'], bins, labels = bin_name)\n",
    "\n",
    "#group by spending\n",
    "school_spending = school_data_complete.groupby('spending_bins')\n",
    "\n",
    "#calculations\n",
    "avg_math = school_spending['math_score'].mean()\n",
    "avg_read = school_spending['reading_score'].mean()\n",
    "pass1ng_math = school_data_complete[school_data_complete['math_score'] >= 70].groupby('spending_bins')['Student ID'].count()/school_spending['Student ID'].count()\n",
    "pass1ing_reading = school_data_complete[school_data_complete['reading_score'] >= 70].groupby('spending_bins')['Student ID'].count()/school_spending['Student ID'].count()\n",
    "overall_passing1 = school_data_complete[(school_data_complete['reading_score'] >= 70) & (school_data_complete['math_score'] >= 70)].groupby('spending_bins')['Student ID'].count()/school_spending['Student ID'].count()\n",
    "\n",
    "school_spending = pd.DataFrame({\n",
    "    \"Average Math Score\": avg_math,\n",
    "    \"Average Reading Score\": avg_read,\n",
    "    '% Passing Math': pass1ng_math,\n",
    "    '% Passing Reading': pass1ing_reading,\n",
    "    \"Overall Passing Rate\": overall_passing1\n",
    "})\n",
    "\n",
    "school_spending = school_spending[[\n",
    "    \"Average Math Score\",\n",
    "    \"Average Reading Score\",\n",
    "    '% Passing Math',\n",
    "    '% Passing Reading',\n",
    "    \"Overall Passing Rate\"]]\n",
    "\n",
    "school_spending.index.name = \"Spending Ranges (Per Student)\"\n",
    "school_spending = school_spending.reindex(bin_name)\n",
    "school_spending\n",
    "\n",
    "school_spending.style.format({'Average Math Score': '{:.1f}', \n",
    "                              'Average Reading Score': '{:.1f}', \n",
    "                              '% Passing Math': '{:.1%}', \n",
    "                              '% Passing Reading':'{:.1%}', \n",
    "                              'Overall Passing Rate': '{:.1%}'})\n"
   ]
  },
  {
   "cell_type": "markdown",
   "metadata": {},
   "source": [
    "## Scores by School Size"
   ]
  },
  {
   "cell_type": "markdown",
   "metadata": {},
   "source": [
    "* Perform the same operations as above, based on school size."
   ]
  },
  {
   "cell_type": "code",
   "execution_count": 3007,
   "metadata": {
    "scrolled": true
   },
   "outputs": [
    {
     "data": {
      "text/html": [
       "<style type=\"text/css\">\n",
       "</style>\n",
       "<table id=\"T_19d4a_\">\n",
       "  <thead>\n",
       "    <tr>\n",
       "      <th class=\"blank level0\" >&nbsp;</th>\n",
       "      <th class=\"col_heading level0 col0\" >Average Math Score</th>\n",
       "      <th class=\"col_heading level0 col1\" >Average Reading Score</th>\n",
       "      <th class=\"col_heading level0 col2\" >% Passing Math</th>\n",
       "      <th class=\"col_heading level0 col3\" >% Passing Reading</th>\n",
       "      <th class=\"col_heading level0 col4\" >Overall Passing Rate</th>\n",
       "    </tr>\n",
       "    <tr>\n",
       "      <th class=\"index_name level0\" >School Size</th>\n",
       "      <th class=\"blank col0\" >&nbsp;</th>\n",
       "      <th class=\"blank col1\" >&nbsp;</th>\n",
       "      <th class=\"blank col2\" >&nbsp;</th>\n",
       "      <th class=\"blank col3\" >&nbsp;</th>\n",
       "      <th class=\"blank col4\" >&nbsp;</th>\n",
       "    </tr>\n",
       "  </thead>\n",
       "  <tbody>\n",
       "    <tr>\n",
       "      <th id=\"T_19d4a_level0_row0\" class=\"row_heading level0 row0\" >Small (<1000)</th>\n",
       "      <td id=\"T_19d4a_row0_col0\" class=\"data row0 col0\" >83.8</td>\n",
       "      <td id=\"T_19d4a_row0_col1\" class=\"data row0 col1\" >83.8</td>\n",
       "      <td id=\"T_19d4a_row0_col2\" class=\"data row0 col2\" >94.0%</td>\n",
       "      <td id=\"T_19d4a_row0_col3\" class=\"data row0 col3\" >96.0%</td>\n",
       "      <td id=\"T_19d4a_row0_col4\" class=\"data row0 col4\" >90.1%</td>\n",
       "    </tr>\n",
       "    <tr>\n",
       "      <th id=\"T_19d4a_level0_row1\" class=\"row_heading level0 row1\" >Medium (1000-2000)</th>\n",
       "      <td id=\"T_19d4a_row1_col0\" class=\"data row1 col0\" >83.4</td>\n",
       "      <td id=\"T_19d4a_row1_col1\" class=\"data row1 col1\" >83.4</td>\n",
       "      <td id=\"T_19d4a_row1_col2\" class=\"data row1 col2\" >93.6%</td>\n",
       "      <td id=\"T_19d4a_row1_col3\" class=\"data row1 col3\" >96.8%</td>\n",
       "      <td id=\"T_19d4a_row1_col4\" class=\"data row1 col4\" >90.6%</td>\n",
       "    </tr>\n",
       "    <tr>\n",
       "      <th id=\"T_19d4a_level0_row2\" class=\"row_heading level0 row2\" >Large (2000-5000)</th>\n",
       "      <td id=\"T_19d4a_row2_col0\" class=\"data row2 col0\" >77.5</td>\n",
       "      <td id=\"T_19d4a_row2_col1\" class=\"data row2 col1\" >77.5</td>\n",
       "      <td id=\"T_19d4a_row2_col2\" class=\"data row2 col2\" >68.7%</td>\n",
       "      <td id=\"T_19d4a_row2_col3\" class=\"data row2 col3\" >82.1%</td>\n",
       "      <td id=\"T_19d4a_row2_col4\" class=\"data row2 col4\" >56.6%</td>\n",
       "    </tr>\n",
       "  </tbody>\n",
       "</table>\n"
      ],
      "text/plain": [
       "<pandas.io.formats.style.Styler at 0x7fc23ec864f0>"
      ]
     },
     "execution_count": 3007,
     "metadata": {},
     "output_type": "execute_result"
    }
   ],
   "source": [
    "#calcualte scores by size - Done\n",
    "bins = [0, 1000, 2000, 5000]\n",
    "bin_name = [\"Small (<1000)\", \"Medium (1000-2000)\" , \"Large (2000-5000)\"]\n",
    "school_data_complete['size_bins'] = pd.cut(school_data_complete['size'], bins, labels = bin_name)\n",
    "\n",
    "#group by spending\n",
    "size = school_data_complete.groupby('size_bins')\n",
    "\n",
    "#calculations \n",
    "avg_math = size['math_score'].mean()\n",
    "avg_read = size['math_score'].mean()\n",
    "pass_math = school_data_complete[school_data_complete['math_score'] >= 70].groupby('size_bins')['Student ID'].count()/size['Student ID'].count()\n",
    "pass_read = school_data_complete[school_data_complete['reading_score'] >= 70].groupby('size_bins')['Student ID'].count()/size['Student ID'].count()\n",
    "overall = school_data_complete[(school_data_complete['reading_score'] >= 70) & (school_data_complete['math_score'] >= 70)].groupby('size_bins')['Student ID'].count()/size['Student ID'].count()\n",
    "\n",
    "            \n",
    "# df build            \n",
    "scores_by_size = pd.DataFrame({\n",
    "    \"Average Math Score\": avg_math,\n",
    "    \"Average Reading Score\": avg_read,\n",
    "    '% Passing Math': pass_math,\n",
    "    '% Passing Reading': pass_read,\n",
    "    \"Overall Passing Rate\": overall\n",
    "            \n",
    "})\n",
    "            \n",
    "#reorder columns\n",
    "scores_by_size = scores_by_size[[\n",
    "    \"Average Math Score\",\n",
    "    \"Average Reading Score\",\n",
    "    '% Passing Math',\n",
    "    '% Passing Reading',\n",
    "    \"Overall Passing Rate\"\n",
    "]]\n",
    "\n",
    "scores_by_size.index.name = \"School Size\"\n",
    "scores_by_size = scores_by_size.reindex(bin_name)\n",
    "\n",
    "#formating\n",
    "scores_by_size.style.format({'Average Math Score': '{:.1f}', \n",
    "                              'Average Reading Score': '{:.1f}', \n",
    "                              '% Passing Math': '{:.1%}', \n",
    "                              '% Passing Reading':'{:.1%}', \n",
    "                              'Overall Passing Rate': '{:.1%}'})"
   ]
  },
  {
   "cell_type": "markdown",
   "metadata": {},
   "source": [
    "## Scores by School Type"
   ]
  },
  {
   "cell_type": "markdown",
   "metadata": {},
   "source": [
    "* Perform the same operations as above, based on school type"
   ]
  },
  {
   "cell_type": "code",
   "execution_count": 3008,
   "metadata": {},
   "outputs": [
    {
     "data": {
      "text/html": [
       "<style type=\"text/css\">\n",
       "</style>\n",
       "<table id=\"T_f4377_\">\n",
       "  <thead>\n",
       "    <tr>\n",
       "      <th class=\"blank level0\" >&nbsp;</th>\n",
       "      <th class=\"col_heading level0 col0\" >Average Math Score</th>\n",
       "      <th class=\"col_heading level0 col1\" >Average Reading Score</th>\n",
       "      <th class=\"col_heading level0 col2\" >% Passing Math</th>\n",
       "      <th class=\"col_heading level0 col3\" >% Passing Reading</th>\n",
       "      <th class=\"col_heading level0 col4\" >Overall Passing Rate</th>\n",
       "    </tr>\n",
       "    <tr>\n",
       "      <th class=\"index_name level0\" >Type of School</th>\n",
       "      <th class=\"blank col0\" >&nbsp;</th>\n",
       "      <th class=\"blank col1\" >&nbsp;</th>\n",
       "      <th class=\"blank col2\" >&nbsp;</th>\n",
       "      <th class=\"blank col3\" >&nbsp;</th>\n",
       "      <th class=\"blank col4\" >&nbsp;</th>\n",
       "    </tr>\n",
       "  </thead>\n",
       "  <tbody>\n",
       "    <tr>\n",
       "      <th id=\"T_f4377_level0_row0\" class=\"row_heading level0 row0\" >Charter</th>\n",
       "      <td id=\"T_f4377_row0_col0\" class=\"data row0 col0\" >83.4</td>\n",
       "      <td id=\"T_f4377_row0_col1\" class=\"data row0 col1\" >83.4</td>\n",
       "      <td id=\"T_f4377_row0_col2\" class=\"data row0 col2\" >93.7%</td>\n",
       "      <td id=\"T_f4377_row0_col3\" class=\"data row0 col3\" >96.6%</td>\n",
       "      <td id=\"T_f4377_row0_col4\" class=\"data row0 col4\" >90.6%</td>\n",
       "    </tr>\n",
       "    <tr>\n",
       "      <th id=\"T_f4377_level0_row1\" class=\"row_heading level0 row1\" >District</th>\n",
       "      <td id=\"T_f4377_row1_col0\" class=\"data row1 col0\" >77.0</td>\n",
       "      <td id=\"T_f4377_row1_col1\" class=\"data row1 col1\" >77.0</td>\n",
       "      <td id=\"T_f4377_row1_col2\" class=\"data row1 col2\" >66.5%</td>\n",
       "      <td id=\"T_f4377_row1_col3\" class=\"data row1 col3\" >80.9%</td>\n",
       "      <td id=\"T_f4377_row1_col4\" class=\"data row1 col4\" >53.7%</td>\n",
       "    </tr>\n",
       "  </tbody>\n",
       "</table>\n"
      ],
      "text/plain": [
       "<pandas.io.formats.style.Styler at 0x7fc23f1a41c0>"
      ]
     },
     "execution_count": 3008,
     "metadata": {},
     "output_type": "execute_result"
    }
   ],
   "source": [
    "#calculate_scores_by_type - Done\n",
    "scores_by_type = school_data_complete.groupby(\"type\")\n",
    "\n",
    "#calculations \n",
    "avg_math = scores_by_type['math_score'].mean()\n",
    "avg_read = scores_by_type['math_score'].mean()\n",
    "pass_math = school_data_complete[school_data_complete['math_score'] >= 70].groupby('type')['Student ID'].count()/scores_by_type['Student ID'].count()\n",
    "pass_read = school_data_complete[school_data_complete['reading_score'] >= 70].groupby('type')['Student ID'].count()/scores_by_type['Student ID'].count()\n",
    "overall = school_data_complete[(school_data_complete['reading_score'] >= 70) & (school_data_complete['math_score'] >= 70)].groupby('type')['Student ID'].count()/scores_by_type['Student ID'].count()\n",
    "           \n",
    "scores_by_type1 = pd.DataFrame({\n",
    "    \"Average Math Score\": avg_math,\n",
    "    \"Average Reading Score\": avg_read,\n",
    "    '% Passing Math': pass_math,\n",
    "    '% Passing Reading': pass_read,\n",
    "    \"Overall Passing Rate\": overall})\n",
    "    \n",
    "scores_by_type1 = scores_by_type1[[\n",
    "    \"Average Math Score\",\n",
    "    \"Average Reading Score\",\n",
    "    '% Passing Math',\n",
    "    '% Passing Reading',\n",
    "    \"Overall Passing Rate\"\n",
    "]]\n",
    "scores_by_type1.index.name = \"Type of School\"\n",
    "\n",
    "\n",
    "\n",
    "scores_by_type1.style.format({'Average Math Score': '{:.1f}', \n",
    "                              'Average Reading Score': '{:.1f}', \n",
    "                              '% Passing Math': '{:.1%}', \n",
    "                              '% Passing Reading':'{:.1%}', \n",
    "                              'Overall Passing Rate': '{:.1%}'})"
   ]
  },
  {
   "cell_type": "code",
   "execution_count": null,
   "metadata": {},
   "outputs": [],
   "source": []
  }
 ],
 "metadata": {
  "anaconda-cloud": {},
  "kernel_info": {
   "name": "python3"
  },
  "kernelspec": {
   "display_name": "Python 3",
   "language": "python",
   "name": "python3"
  },
  "language_info": {
   "codemirror_mode": {
    "name": "ipython",
    "version": 3
   },
   "file_extension": ".py",
   "mimetype": "text/x-python",
   "name": "python",
   "nbconvert_exporter": "python",
   "pygments_lexer": "ipython3",
   "version": "3.9.7"
  },
  "latex_envs": {
   "LaTeX_envs_menu_present": true,
   "autoclose": false,
   "autocomplete": true,
   "bibliofile": "biblio.bib",
   "cite_by": "apalike",
   "current_citInitial": 1,
   "eqLabelWithNumbers": true,
   "eqNumInitial": 1,
   "hotkeys": {
    "equation": "Ctrl-E",
    "itemize": "Ctrl-I"
   },
   "labels_anchors": false,
   "latex_user_defs": false,
   "report_style_numbering": false,
   "user_envs_cfg": false
  },
  "nteract": {
   "version": "0.8.4"
  }
 },
 "nbformat": 4,
 "nbformat_minor": 1
}
